{
  "nbformat": 4,
  "nbformat_minor": 0,
  "metadata": {
    "colab": {
      "provenance": []
    },
    "kernelspec": {
      "name": "python3",
      "display_name": "Python 3"
    },
    "language_info": {
      "name": "python"
    },
    "widgets": {
      "application/vnd.jupyter.widget-state+json": {
        "47422c3f12cd4a7ea393d87a68baca7f": {
          "model_module": "@jupyter-widgets/controls",
          "model_name": "HBoxModel",
          "model_module_version": "1.5.0",
          "state": {
            "_dom_classes": [],
            "_model_module": "@jupyter-widgets/controls",
            "_model_module_version": "1.5.0",
            "_model_name": "HBoxModel",
            "_view_count": null,
            "_view_module": "@jupyter-widgets/controls",
            "_view_module_version": "1.5.0",
            "_view_name": "HBoxView",
            "box_style": "",
            "children": [
              "IPY_MODEL_d9e722de396e4b43b2d01177b1133f7a",
              "IPY_MODEL_6b87315ddf1f4c44b0d98b0ceb6f0ff3",
              "IPY_MODEL_30b53c8b861f4af989a7b30503b2fdc8"
            ],
            "layout": "IPY_MODEL_e4b6e802e05741f38ef09b82b924c52c"
          }
        },
        "d9e722de396e4b43b2d01177b1133f7a": {
          "model_module": "@jupyter-widgets/controls",
          "model_name": "HTMLModel",
          "model_module_version": "1.5.0",
          "state": {
            "_dom_classes": [],
            "_model_module": "@jupyter-widgets/controls",
            "_model_module_version": "1.5.0",
            "_model_name": "HTMLModel",
            "_view_count": null,
            "_view_module": "@jupyter-widgets/controls",
            "_view_module_version": "1.5.0",
            "_view_name": "HTMLView",
            "description": "",
            "description_tooltip": null,
            "layout": "IPY_MODEL_605fc1f3a7be4847b4b1500b7ff942a3",
            "placeholder": "​",
            "style": "IPY_MODEL_c006b5724d8f4ad0b261499044f267ba",
            "value": ""
          }
        },
        "6b87315ddf1f4c44b0d98b0ceb6f0ff3": {
          "model_module": "@jupyter-widgets/controls",
          "model_name": "FloatProgressModel",
          "model_module_version": "1.5.0",
          "state": {
            "_dom_classes": [],
            "_model_module": "@jupyter-widgets/controls",
            "_model_module_version": "1.5.0",
            "_model_name": "FloatProgressModel",
            "_view_count": null,
            "_view_module": "@jupyter-widgets/controls",
            "_view_module_version": "1.5.0",
            "_view_name": "ProgressView",
            "bar_style": "success",
            "description": "",
            "description_tooltip": null,
            "layout": "IPY_MODEL_62e1e4ac90d9466494151580b8ea8d1e",
            "max": 1,
            "min": 0,
            "orientation": "horizontal",
            "style": "IPY_MODEL_a116e39f6eef4cb18b4a97d69e6a15f5",
            "value": 0
          }
        },
        "30b53c8b861f4af989a7b30503b2fdc8": {
          "model_module": "@jupyter-widgets/controls",
          "model_name": "HTMLModel",
          "model_module_version": "1.5.0",
          "state": {
            "_dom_classes": [],
            "_model_module": "@jupyter-widgets/controls",
            "_model_module_version": "1.5.0",
            "_model_name": "HTMLModel",
            "_view_count": null,
            "_view_module": "@jupyter-widgets/controls",
            "_view_module_version": "1.5.0",
            "_view_name": "HTMLView",
            "description": "",
            "description_tooltip": null,
            "layout": "IPY_MODEL_df04fda136584fe691f2ad0ecbeb30a8",
            "placeholder": "​",
            "style": "IPY_MODEL_2094ff04572d43fb8cd99a5fdb64e16f",
            "value": " 0/0 [00:00&lt;?, ?it/s]"
          }
        },
        "e4b6e802e05741f38ef09b82b924c52c": {
          "model_module": "@jupyter-widgets/base",
          "model_name": "LayoutModel",
          "model_module_version": "1.2.0",
          "state": {
            "_model_module": "@jupyter-widgets/base",
            "_model_module_version": "1.2.0",
            "_model_name": "LayoutModel",
            "_view_count": null,
            "_view_module": "@jupyter-widgets/base",
            "_view_module_version": "1.2.0",
            "_view_name": "LayoutView",
            "align_content": null,
            "align_items": null,
            "align_self": null,
            "border": null,
            "bottom": null,
            "display": null,
            "flex": null,
            "flex_flow": null,
            "grid_area": null,
            "grid_auto_columns": null,
            "grid_auto_flow": null,
            "grid_auto_rows": null,
            "grid_column": null,
            "grid_gap": null,
            "grid_row": null,
            "grid_template_areas": null,
            "grid_template_columns": null,
            "grid_template_rows": null,
            "height": null,
            "justify_content": null,
            "justify_items": null,
            "left": null,
            "margin": null,
            "max_height": null,
            "max_width": null,
            "min_height": null,
            "min_width": null,
            "object_fit": null,
            "object_position": null,
            "order": null,
            "overflow": null,
            "overflow_x": null,
            "overflow_y": null,
            "padding": null,
            "right": null,
            "top": null,
            "visibility": null,
            "width": null
          }
        },
        "605fc1f3a7be4847b4b1500b7ff942a3": {
          "model_module": "@jupyter-widgets/base",
          "model_name": "LayoutModel",
          "model_module_version": "1.2.0",
          "state": {
            "_model_module": "@jupyter-widgets/base",
            "_model_module_version": "1.2.0",
            "_model_name": "LayoutModel",
            "_view_count": null,
            "_view_module": "@jupyter-widgets/base",
            "_view_module_version": "1.2.0",
            "_view_name": "LayoutView",
            "align_content": null,
            "align_items": null,
            "align_self": null,
            "border": null,
            "bottom": null,
            "display": null,
            "flex": null,
            "flex_flow": null,
            "grid_area": null,
            "grid_auto_columns": null,
            "grid_auto_flow": null,
            "grid_auto_rows": null,
            "grid_column": null,
            "grid_gap": null,
            "grid_row": null,
            "grid_template_areas": null,
            "grid_template_columns": null,
            "grid_template_rows": null,
            "height": null,
            "justify_content": null,
            "justify_items": null,
            "left": null,
            "margin": null,
            "max_height": null,
            "max_width": null,
            "min_height": null,
            "min_width": null,
            "object_fit": null,
            "object_position": null,
            "order": null,
            "overflow": null,
            "overflow_x": null,
            "overflow_y": null,
            "padding": null,
            "right": null,
            "top": null,
            "visibility": null,
            "width": null
          }
        },
        "c006b5724d8f4ad0b261499044f267ba": {
          "model_module": "@jupyter-widgets/controls",
          "model_name": "DescriptionStyleModel",
          "model_module_version": "1.5.0",
          "state": {
            "_model_module": "@jupyter-widgets/controls",
            "_model_module_version": "1.5.0",
            "_model_name": "DescriptionStyleModel",
            "_view_count": null,
            "_view_module": "@jupyter-widgets/base",
            "_view_module_version": "1.2.0",
            "_view_name": "StyleView",
            "description_width": ""
          }
        },
        "62e1e4ac90d9466494151580b8ea8d1e": {
          "model_module": "@jupyter-widgets/base",
          "model_name": "LayoutModel",
          "model_module_version": "1.2.0",
          "state": {
            "_model_module": "@jupyter-widgets/base",
            "_model_module_version": "1.2.0",
            "_model_name": "LayoutModel",
            "_view_count": null,
            "_view_module": "@jupyter-widgets/base",
            "_view_module_version": "1.2.0",
            "_view_name": "LayoutView",
            "align_content": null,
            "align_items": null,
            "align_self": null,
            "border": null,
            "bottom": null,
            "display": null,
            "flex": null,
            "flex_flow": null,
            "grid_area": null,
            "grid_auto_columns": null,
            "grid_auto_flow": null,
            "grid_auto_rows": null,
            "grid_column": null,
            "grid_gap": null,
            "grid_row": null,
            "grid_template_areas": null,
            "grid_template_columns": null,
            "grid_template_rows": null,
            "height": null,
            "justify_content": null,
            "justify_items": null,
            "left": null,
            "margin": null,
            "max_height": null,
            "max_width": null,
            "min_height": null,
            "min_width": null,
            "object_fit": null,
            "object_position": null,
            "order": null,
            "overflow": null,
            "overflow_x": null,
            "overflow_y": null,
            "padding": null,
            "right": null,
            "top": null,
            "visibility": null,
            "width": "20px"
          }
        },
        "a116e39f6eef4cb18b4a97d69e6a15f5": {
          "model_module": "@jupyter-widgets/controls",
          "model_name": "ProgressStyleModel",
          "model_module_version": "1.5.0",
          "state": {
            "_model_module": "@jupyter-widgets/controls",
            "_model_module_version": "1.5.0",
            "_model_name": "ProgressStyleModel",
            "_view_count": null,
            "_view_module": "@jupyter-widgets/base",
            "_view_module_version": "1.2.0",
            "_view_name": "StyleView",
            "bar_color": null,
            "description_width": ""
          }
        },
        "df04fda136584fe691f2ad0ecbeb30a8": {
          "model_module": "@jupyter-widgets/base",
          "model_name": "LayoutModel",
          "model_module_version": "1.2.0",
          "state": {
            "_model_module": "@jupyter-widgets/base",
            "_model_module_version": "1.2.0",
            "_model_name": "LayoutModel",
            "_view_count": null,
            "_view_module": "@jupyter-widgets/base",
            "_view_module_version": "1.2.0",
            "_view_name": "LayoutView",
            "align_content": null,
            "align_items": null,
            "align_self": null,
            "border": null,
            "bottom": null,
            "display": null,
            "flex": null,
            "flex_flow": null,
            "grid_area": null,
            "grid_auto_columns": null,
            "grid_auto_flow": null,
            "grid_auto_rows": null,
            "grid_column": null,
            "grid_gap": null,
            "grid_row": null,
            "grid_template_areas": null,
            "grid_template_columns": null,
            "grid_template_rows": null,
            "height": null,
            "justify_content": null,
            "justify_items": null,
            "left": null,
            "margin": null,
            "max_height": null,
            "max_width": null,
            "min_height": null,
            "min_width": null,
            "object_fit": null,
            "object_position": null,
            "order": null,
            "overflow": null,
            "overflow_x": null,
            "overflow_y": null,
            "padding": null,
            "right": null,
            "top": null,
            "visibility": null,
            "width": null
          }
        },
        "2094ff04572d43fb8cd99a5fdb64e16f": {
          "model_module": "@jupyter-widgets/controls",
          "model_name": "DescriptionStyleModel",
          "model_module_version": "1.5.0",
          "state": {
            "_model_module": "@jupyter-widgets/controls",
            "_model_module_version": "1.5.0",
            "_model_name": "DescriptionStyleModel",
            "_view_count": null,
            "_view_module": "@jupyter-widgets/base",
            "_view_module_version": "1.2.0",
            "_view_name": "StyleView",
            "description_width": ""
          }
        }
      }
    }
  },
  "cells": [
    {
      "cell_type": "code",
      "execution_count": 1,
      "metadata": {
        "id": "MnT4ML8ad8iL"
      },
      "outputs": [],
      "source": [
        "import io\n",
        "import h5py\n",
        "import argparse\n",
        "import torch\n",
        "import time\n",
        "import pickle\n",
        "import numpy as np\n",
        "import matplotlib.pyplot as plt\n",
        "from PIL import Image\n",
        "from torch import nn\n",
        "from datetime import timedelta\n",
        "from torch.autograd import Variable\n",
        "from torch.utils.data import DataLoader, Dataset\n",
        "from sklearn.neighbors import NearestNeighbors"
      ]
    },
    {
      "cell_type": "code",
      "source": [
        "from pathlib import Path\n",
        "import tqdm\n",
        "import cv2\n",
        "import nltk\n",
        "!pip install --upgrade keras -q\n",
        "import keras\n",
        "import torch\n",
        "import pandas as pd\n",
        "!pip install --upgrade diffusers transformers -q\n",
        "import matplotlib.pyplot as plt"
      ],
      "metadata": {
        "colab": {
          "base_uri": "https://localhost:8080/"
        },
        "id": "gvh-saqid_Wt",
        "outputId": "93b74881-ed53-49d9-ede2-339de8e7ba76"
      },
      "execution_count": 2,
      "outputs": [
        {
          "output_type": "stream",
          "name": "stdout",
          "text": [
            "\u001b[2K     \u001b[90m━━━━━━━━━━━━━━━━━━━━━━━━━━━━━━━━━━━━━━━━\u001b[0m \u001b[32m1.1/1.1 MB\u001b[0m \u001b[31m8.0 MB/s\u001b[0m eta \u001b[36m0:00:00\u001b[0m\n",
            "\u001b[2K     \u001b[90m━━━━━━━━━━━━━━━━━━━━━━━━━━━━━━━━━━━━━━━━\u001b[0m \u001b[32m311.2/311.2 kB\u001b[0m \u001b[31m12.1 MB/s\u001b[0m eta \u001b[36m0:00:00\u001b[0m\n",
            "\u001b[?25h\u001b[31mERROR: pip's dependency resolver does not currently take into account all the packages that are installed. This behaviour is the source of the following dependency conflicts.\n",
            "tensorflow 2.15.0 requires keras<2.16,>=2.15.0, but you have keras 3.3.3 which is incompatible.\u001b[0m\u001b[31m\n",
            "\u001b[2K     \u001b[90m━━━━━━━━━━━━━━━━━━━━━━━━━━━━━━━━━━━━━━━━\u001b[0m \u001b[32m2.2/2.2 MB\u001b[0m \u001b[31m13.3 MB/s\u001b[0m eta \u001b[36m0:00:00\u001b[0m\n",
            "\u001b[?25h"
          ]
        }
      ]
    },
    {
      "cell_type": "markdown",
      "source": [],
      "metadata": {
        "id": "-A63cPKrd-9X"
      }
    },
    {
      "cell_type": "code",
      "source": [
        "from diffusers import StableDiffusionPipeline\n",
        "import matplotlib.pyplot as plt\n",
        "import torch"
      ],
      "metadata": {
        "colab": {
          "base_uri": "https://localhost:8080/",
          "height": 121,
          "referenced_widgets": [
            "47422c3f12cd4a7ea393d87a68baca7f",
            "d9e722de396e4b43b2d01177b1133f7a",
            "6b87315ddf1f4c44b0d98b0ceb6f0ff3",
            "30b53c8b861f4af989a7b30503b2fdc8",
            "e4b6e802e05741f38ef09b82b924c52c",
            "605fc1f3a7be4847b4b1500b7ff942a3",
            "c006b5724d8f4ad0b261499044f267ba",
            "62e1e4ac90d9466494151580b8ea8d1e",
            "a116e39f6eef4cb18b4a97d69e6a15f5",
            "df04fda136584fe691f2ad0ecbeb30a8",
            "2094ff04572d43fb8cd99a5fdb64e16f"
          ]
        },
        "id": "biCOSj2weCMk",
        "outputId": "b3f1cab5-3857-4d72-9cf2-108faf854612"
      },
      "execution_count": 3,
      "outputs": [
        {
          "output_type": "stream",
          "name": "stderr",
          "text": [
            "The cache for model files in Transformers v4.22.0 has been updated. Migrating your old cache. This is a one-time only operation. You can interrupt this and resume the migration later on by calling `transformers.utils.move_cache()`.\n"
          ]
        },
        {
          "output_type": "display_data",
          "data": {
            "text/plain": [
              "0it [00:00, ?it/s]"
            ],
            "application/vnd.jupyter.widget-view+json": {
              "version_major": 2,
              "version_minor": 0,
              "model_id": "47422c3f12cd4a7ea393d87a68baca7f"
            }
          },
          "metadata": {}
        },
        {
          "output_type": "stream",
          "name": "stderr",
          "text": [
            "/usr/local/lib/python3.10/dist-packages/diffusers/models/transformers/transformer_2d.py:34: FutureWarning: `Transformer2DModelOutput` is deprecated and will be removed in version 1.0.0. Importing `Transformer2DModelOutput` from `diffusers.models.transformer_2d` is deprecated and this will be removed in a future version. Please use `from diffusers.models.modeling_outputs import Transformer2DModelOutput`, instead.\n",
            "  deprecate(\"Transformer2DModelOutput\", \"1.0.0\", deprecation_message)\n"
          ]
        }
      ]
    },
    {
      "cell_type": "code",
      "source": [
        "import torchvision.transforms as transforms\n",
        "from torchvision.datasets import CIFAR10\n",
        "from torch.utils.data import DataLoader"
      ],
      "metadata": {
        "id": "5uyrI-6QeDI9"
      },
      "execution_count": 4,
      "outputs": []
    },
    {
      "cell_type": "code",
      "source": [
        "from torchvision import transforms\n",
        "\n",
        "transform = transforms.Compose([\n",
        "    transforms.Resize(128),  # Alternative resize value\n",
        "    transforms.ToTensor(),\n",
        "    transforms.Normalize([0.485, 0.456, 0.406], [0.229, 0.224, 0.225])  # Alternative normalization values using mean and standard deviation\n",
        "])\n",
        "\n",
        "from torchvision.datasets import CIFAR10\n",
        "from torch.utils.data import DataLoader  # Import DataLoader\n",
        "dataset = CIFAR10(root='./data/cifar10', train=True, transform=transform, download=True)\n",
        "\n",
        "# Adjust batch size and add number of workers for DataLoader\n",
        "dataloader = DataLoader(dataset, batch_size=64, shuffle=True, num_workers=4)\n",
        "\n",
        "# Now you can use 'dataloader' in your training loop\n",
        "for images, labels in dataloader:\n",
        "    # Training code here\n",
        "    pass\n"
      ],
      "metadata": {
        "colab": {
          "base_uri": "https://localhost:8080/"
        },
        "id": "iS52NdUQeHI3",
        "outputId": "c53e10cc-a7a0-4dbb-9286-909acf9d9fbd"
      },
      "execution_count": 5,
      "outputs": [
        {
          "output_type": "stream",
          "name": "stdout",
          "text": [
            "Downloading https://www.cs.toronto.edu/~kriz/cifar-10-python.tar.gz to ./data/cifar10/cifar-10-python.tar.gz\n"
          ]
        },
        {
          "output_type": "stream",
          "name": "stderr",
          "text": [
            "100%|██████████| 170498071/170498071 [00:05<00:00, 32351663.43it/s]\n"
          ]
        },
        {
          "output_type": "stream",
          "name": "stdout",
          "text": [
            "Extracting ./data/cifar10/cifar-10-python.tar.gz to ./data/cifar10\n"
          ]
        },
        {
          "output_type": "stream",
          "name": "stderr",
          "text": [
            "/usr/local/lib/python3.10/dist-packages/torch/utils/data/dataloader.py:558: UserWarning: This DataLoader will create 4 worker processes in total. Our suggested max number of worker in current system is 2, which is smaller than what this DataLoader is going to create. Please be aware that excessive worker creation might get DataLoader running slow or even freeze, lower the worker number to avoid potential slowness/freeze if necessary.\n",
            "  warnings.warn(_create_warning_msg(\n",
            "/usr/lib/python3.10/multiprocessing/popen_fork.py:66: RuntimeWarning: os.fork() was called. os.fork() is incompatible with multithreaded code, and JAX is multithreaded, so this will likely lead to a deadlock.\n",
            "  self.pid = os.fork()\n",
            "/usr/lib/python3.10/multiprocessing/popen_fork.py:66: RuntimeWarning: os.fork() was called. os.fork() is incompatible with multithreaded code, and JAX is multithreaded, so this will likely lead to a deadlock.\n",
            "  self.pid = os.fork()\n"
          ]
        }
      ]
    },
    {
      "cell_type": "code",
      "source": [
        "device = \"cuda\" if torch.cuda.is_available() else \"cpu\"\n",
        "print(f\"Using device: {device}\")\n",
        "\n",
        "num_gpus = torch.cuda.device_count()\n",
        "print(f\"Number of available GPUs: {num_gpus}\")"
      ],
      "metadata": {
        "colab": {
          "base_uri": "https://localhost:8080/"
        },
        "id": "yRut8xOdeJWU",
        "outputId": "b5952c29-0d73-4107-d85c-a39b3039fad0"
      },
      "execution_count": 6,
      "outputs": [
        {
          "output_type": "stream",
          "name": "stdout",
          "text": [
            "Using device: cuda\n",
            "Number of available GPUs: 1\n"
          ]
        }
      ]
    },
    {
      "cell_type": "code",
      "source": [
        "import nltk\n",
        "from nltk.tokenize import word_tokenize\n",
        "import torch.nn as nn"
      ],
      "metadata": {
        "id": "194L5rmaeLhR"
      },
      "execution_count": 7,
      "outputs": []
    },
    {
      "cell_type": "code",
      "source": [
        "class Generator(nn.Module):\n",
        "    def __init__(self, latent_dim, num_channels, base_feature_size):\n",
        "        \"\"\"\n",
        "        Generator Class\n",
        "\n",
        "        Parameters:\n",
        "        latent_dim (int): Dimension of the latent vector (input noise).\n",
        "        num_channels (int): Number of channels in the output image (e.g., 3 for RGB images).\n",
        "        base_feature_size (int): Size of the base feature maps in the generator. This parameter\n",
        "                                 controls the number of feature maps in the intermediate layers.\n",
        "        \"\"\"\n",
        "        super(Generator, self).__init__()\n",
        "\n",
        "        self.main = nn.Sequential(\n",
        "            # Input is the latent vector Z.\n",
        "            nn.ConvTranspose2d(latent_dim, base_feature_size * 16, 4, 1, 0, bias=False),\n",
        "            nn.BatchNorm2d(base_feature_size * 16),\n",
        "            nn.ReLU(True),\n",
        "\n",
        "            # State size: (base_feature_size * 16) x 4 x 4\n",
        "            nn.ConvTranspose2d(base_feature_size * 16, base_feature_size * 8, 4, 2, 1, bias=False),\n",
        "            nn.BatchNorm2d(base_feature_size * 8),\n",
        "            nn.ReLU(True),\n",
        "\n",
        "            # State size: (base_feature_size * 8) x 8 x 8\n",
        "            nn.ConvTranspose2d(base_feature_size * 8, base_feature_size * 4, 4, 2, 1, bias=False),\n",
        "            nn.BatchNorm2d(base_feature_size * 4),\n",
        "            nn.ReLU(True),\n",
        "\n",
        "            # State size: (base_feature_size * 4) x 16 x 16\n",
        "            nn.ConvTranspose2d(base_feature_size * 4, base_feature_size * 2, 4, 2, 1, bias=False),\n",
        "            nn.BatchNorm2d(base_feature_size * 2),\n",
        "            nn.ReLU(True),\n",
        "\n",
        "            # State size: (base_feature_size * 2) x 32 x 32\n",
        "            nn.ConvTranspose2d(base_feature_size * 2, num_channels, 4, 2, 1, bias=False),\n",
        "            nn.Tanh()\n",
        "            # Output state size: (num_channels) x 64 x 64\n",
        "        )\n",
        "\n",
        "    def forward(self, input):\n",
        "        return self.main(input)"
      ],
      "metadata": {
        "id": "tHGYmz_qeNl3"
      },
      "execution_count": 8,
      "outputs": []
    },
    {
      "cell_type": "code",
      "source": [
        "    def forward(self, input):\n",
        "        return self.main(input)"
      ],
      "metadata": {
        "id": "4r7XTznxePoZ"
      },
      "execution_count": 9,
      "outputs": []
    },
    {
      "cell_type": "code",
      "source": [
        "\n",
        "class Discriminator(nn.Module):\n",
        "    def __init__(self, num_channels, base_feature_size):\n",
        "\n",
        "        super(Discriminator, self).__init__()\n",
        "\n",
        "        self.main = nn.Sequential(\n",
        "            # Input is (num_channels) x 64 x 64\n",
        "            nn.Conv2d(num_channels, base_feature_size, 4, 2, 1, bias=False),\n",
        "            nn.LeakyReLU(0.2, inplace=True),\n",
        "\n",
        "            # State size: (base_feature_size) x 32 x 32\n",
        "            nn.Conv2d(base_feature_size, base_feature_size * 2, 4, 2, 1, bias=False),\n",
        "            nn.BatchNorm2d(base_feature_size * 2),\n",
        "            nn.LeakyReLU(0.2, inplace=True),\n",
        "\n",
        "            # State size: (base_feature_size * 2) x 16 x 16\n",
        "            nn.Conv2d(base_feature_size * 2, base_feature_size * 4, 4, 2, 1, bias=False),\n",
        "            nn.BatchNorm2d(base_feature_size * 4),\n",
        "            nn.LeakyReLU(0.2, inplace=True),\n",
        "\n",
        "            # State size: (base_feature_size * 4) x 8 x 8\n",
        "            nn.Conv2d(base_feature_size * 4, base_feature_size * 8, 4, 2, 1, bias=False),\n",
        "            nn.BatchNorm2d(base_feature_size * 8),\n",
        "            nn.LeakyReLU(0.2, inplace=True),\n",
        "\n",
        "            # State size: (base_feature_size * 8) x 4 x 4\n",
        "            nn.Conv2d(base_feature_size * 8, 1, 4, 1, 0, bias=False),\n",
        "            nn.Sigmoid()\n",
        "            # Output state size: 1 x 1 x 1\n",
        "        )\n",
        "\n",
        "    def forward(self, input):\n",
        "        return self.main(input)"
      ],
      "metadata": {
        "id": "PqF71MpGeRdP"
      },
      "execution_count": 10,
      "outputs": []
    },
    {
      "cell_type": "code",
      "source": [
        "\n",
        "latent_dim = 100\n",
        "base_feature_size = 64\n",
        "num_channels = 3\n",
        "learning_rate = 0.0003\n",
        "beta1 = 0.5\n",
        "\n",
        "# Initialize the models with new hyperparameters\n",
        "netG = Generator(latent_dim, num_channels, base_feature_size)\n",
        "netD = Discriminator(num_channels, base_feature_size)\n",
        "\n",
        "netG.to(device)\n",
        "netD.to(device)\n",
        "\n",
        "# Print the models to verify the structure\n",
        "print(netG)\n",
        "print(netD)\n",
        "\n",
        "# Define the optimizer with new hyperparameters\n",
        "optimizerD = torch.optim.Adam(netD.parameters(), lr=learning_rate, betas=(beta1, 0.999))\n",
        "optimizerG = torch.optim.Adam(netG.parameters(), lr=learning_rate, betas=(beta1, 0.999))\n",
        "\n",
        "\n",
        "#Loss\n",
        "criterion = nn.BCELoss()"
      ],
      "metadata": {
        "colab": {
          "base_uri": "https://localhost:8080/"
        },
        "id": "VzOYZ_45eTsX",
        "outputId": "d286b114-83fe-4ecd-9ffe-978a0aad0603"
      },
      "execution_count": 11,
      "outputs": [
        {
          "output_type": "stream",
          "name": "stdout",
          "text": [
            "Generator(\n",
            "  (main): Sequential(\n",
            "    (0): ConvTranspose2d(100, 1024, kernel_size=(4, 4), stride=(1, 1), bias=False)\n",
            "    (1): BatchNorm2d(1024, eps=1e-05, momentum=0.1, affine=True, track_running_stats=True)\n",
            "    (2): ReLU(inplace=True)\n",
            "    (3): ConvTranspose2d(1024, 512, kernel_size=(4, 4), stride=(2, 2), padding=(1, 1), bias=False)\n",
            "    (4): BatchNorm2d(512, eps=1e-05, momentum=0.1, affine=True, track_running_stats=True)\n",
            "    (5): ReLU(inplace=True)\n",
            "    (6): ConvTranspose2d(512, 256, kernel_size=(4, 4), stride=(2, 2), padding=(1, 1), bias=False)\n",
            "    (7): BatchNorm2d(256, eps=1e-05, momentum=0.1, affine=True, track_running_stats=True)\n",
            "    (8): ReLU(inplace=True)\n",
            "    (9): ConvTranspose2d(256, 128, kernel_size=(4, 4), stride=(2, 2), padding=(1, 1), bias=False)\n",
            "    (10): BatchNorm2d(128, eps=1e-05, momentum=0.1, affine=True, track_running_stats=True)\n",
            "    (11): ReLU(inplace=True)\n",
            "    (12): ConvTranspose2d(128, 3, kernel_size=(4, 4), stride=(2, 2), padding=(1, 1), bias=False)\n",
            "    (13): Tanh()\n",
            "  )\n",
            ")\n",
            "Discriminator(\n",
            "  (main): Sequential(\n",
            "    (0): Conv2d(3, 64, kernel_size=(4, 4), stride=(2, 2), padding=(1, 1), bias=False)\n",
            "    (1): LeakyReLU(negative_slope=0.2, inplace=True)\n",
            "    (2): Conv2d(64, 128, kernel_size=(4, 4), stride=(2, 2), padding=(1, 1), bias=False)\n",
            "    (3): BatchNorm2d(128, eps=1e-05, momentum=0.1, affine=True, track_running_stats=True)\n",
            "    (4): LeakyReLU(negative_slope=0.2, inplace=True)\n",
            "    (5): Conv2d(128, 256, kernel_size=(4, 4), stride=(2, 2), padding=(1, 1), bias=False)\n",
            "    (6): BatchNorm2d(256, eps=1e-05, momentum=0.1, affine=True, track_running_stats=True)\n",
            "    (7): LeakyReLU(negative_slope=0.2, inplace=True)\n",
            "    (8): Conv2d(256, 512, kernel_size=(4, 4), stride=(2, 2), padding=(1, 1), bias=False)\n",
            "    (9): BatchNorm2d(512, eps=1e-05, momentum=0.1, affine=True, track_running_stats=True)\n",
            "    (10): LeakyReLU(negative_slope=0.2, inplace=True)\n",
            "    (11): Conv2d(512, 1, kernel_size=(4, 4), stride=(1, 1), bias=False)\n",
            "    (12): Sigmoid()\n",
            "  )\n",
            ")\n"
          ]
        }
      ]
    },
    {
      "cell_type": "code",
      "source": [
        "n_epochs = 5\n",
        "\n",
        "for epoch in range(n_epochs):\n",
        "    for i, data in enumerate(dataloader, 0):\n",
        "        # Update Discriminator\n",
        "        netD.zero_grad()\n",
        "        real_cpu = data[0].to(device)\n",
        "        batch_size = real_cpu.size(0)\n",
        "\n",
        "        # Forward pass real batch through Discriminator\n",
        "        output = netD(real_cpu)\n",
        "\n",
        "        # Create labels for real data (1s) and make sure they match the size of the output\n",
        "        label_real = torch.full(output.size(), 1., dtype=torch.float, device=device)\n",
        "        errD_real = criterion(output, label_real)\n",
        "        errD_real.backward()\n",
        "        D_x = output.mean().item()\n",
        "\n",
        "        # Generate fake images batch with Generator\n",
        "        noise = torch.randn(batch_size, latent_dim, 1, 1, device=device)\n",
        "        fake = netG(noise)\n",
        "\n",
        "        # Forward pass fake batch through Discriminator\n",
        "        output = netD(fake.detach())\n",
        "\n",
        "        # Create labels for fake data (0s) and make sure they match the size of the output\n",
        "        label_fake = torch.full(output.size(), 0., dtype=torch.float, device=device)\n",
        "        errD_fake = criterion(output, label_fake)\n",
        "        errD_fake.backward()\n",
        "        D_G_z1 = output.mean().item()\n",
        "\n",
        "        # Combine the loss and update the Discriminator\n",
        "        errD = errD_real + errD_fake\n",
        "        optimizerD.step()\n",
        "\n",
        "        # Update Generator\n",
        "        netG.zero_grad()\n",
        "\n",
        "        # Forward pass fake batch through Discriminator again\n",
        "        output = netD(fake)\n",
        "\n",
        "        # We want the generator to fool the discriminator, so labels are real (1s)\n",
        "        label_fake.fill_(1.)\n",
        "        errG = criterion(output, label_fake)\n",
        "        errG.backward()\n",
        "        D_G_z2 = output.mean().item()\n",
        "        optimizerG.step()\n",
        "\n",
        "        if i % 50 == 0:\n",
        "            print(f'[{epoch}/{n_epochs}][{i}/{len(dataloader)}] Loss_D: {errD.item()} Loss_G: {errG.item()} D(x): {D_x} D(G(z)): {D_G_z1} / {D_G_z2}')"
      ],
      "metadata": {
        "colab": {
          "base_uri": "https://localhost:8080/"
        },
        "id": "ggJ-FJJqeVJE",
        "outputId": "e306f568-86b7-4a9d-c82a-1c2e7e401ca6"
      },
      "execution_count": 12,
      "outputs": [
        {
          "output_type": "stream",
          "name": "stderr",
          "text": [
            "/usr/local/lib/python3.10/dist-packages/torch/autograd/graph.py:744: UserWarning: Plan failed with a cudnnException: CUDNN_BACKEND_EXECUTION_PLAN_DESCRIPTOR: cudnnFinalize Descriptor Failed cudnn_status: CUDNN_STATUS_NOT_SUPPORTED (Triggered internally at ../aten/src/ATen/native/cudnn/Conv_v8.cpp:919.)\n",
            "  return Variable._execution_engine.run_backward(  # Calls into the C++ engine to run the backward pass\n"
          ]
        },
        {
          "output_type": "stream",
          "name": "stdout",
          "text": [
            "[0/5][0/782] Loss_D: 1.390896201133728 Loss_G: 6.3426833152771 D(x): 0.45920026302337646 D(G(z)): 0.4390864968299866 / 0.0018479463178664446\n",
            "[0/5][50/782] Loss_D: 0.3413390517234802 Loss_G: 16.437623977661133 D(x): 0.9744404554367065 D(G(z)): 0.2679898142814636 / 8.401214302011795e-08\n",
            "[0/5][100/782] Loss_D: 0.038164932280778885 Loss_G: 5.663041114807129 D(x): 0.9771677851676941 D(G(z)): 0.012859109789133072 / 0.0045135123655200005\n",
            "[0/5][150/782] Loss_D: 0.011979220435023308 Loss_G: 6.476497173309326 D(x): 0.9937043786048889 D(G(z)): 0.005429318640381098 / 0.002034352160990238\n",
            "[0/5][200/782] Loss_D: 0.010679122060537338 Loss_G: 6.724703311920166 D(x): 0.9944039583206177 D(G(z)): 0.0048994263634085655 / 0.0013917444739490747\n",
            "[0/5][250/782] Loss_D: 0.0046178787015378475 Loss_G: 6.903225898742676 D(x): 0.9973794221878052 D(G(z)): 0.0019453035201877356 / 0.0011466174619272351\n",
            "[0/5][300/782] Loss_D: 0.006425613071769476 Loss_G: 6.743082046508789 D(x): 0.9959633946418762 D(G(z)): 0.002248024567961693 / 0.0013351462548598647\n",
            "[0/5][350/782] Loss_D: 0.0032812021672725677 Loss_G: 7.0850701332092285 D(x): 0.9978101253509521 D(G(z)): 0.001060419250279665 / 0.0009137295419350266\n",
            "[0/5][400/782] Loss_D: 0.00230712560005486 Loss_G: 7.18569278717041 D(x): 0.9990068674087524 D(G(z)): 0.001303955214098096 / 0.0008194338297471404\n",
            "[0/5][450/782] Loss_D: 0.002191428793594241 Loss_G: 7.090950012207031 D(x): 0.9994105100631714 D(G(z)): 0.001597994938492775 / 0.000895886099897325\n",
            "[0/5][500/782] Loss_D: 0.001487151486799121 Loss_G: 7.663238525390625 D(x): 0.9994227290153503 D(G(z)): 0.0009074599947780371 / 0.0005080865230411291\n",
            "[0/5][550/782] Loss_D: 0.0008205115445889533 Loss_G: 7.988665580749512 D(x): 0.9996769428253174 D(G(z)): 0.0004967828863300383 / 0.00035927240969613194\n",
            "[0/5][600/782] Loss_D: 0.0007644387660548091 Loss_G: 8.229999542236328 D(x): 0.9996660947799683 D(G(z)): 0.0004298901476431638 / 0.0002802146482281387\n",
            "[0/5][650/782] Loss_D: 0.0007290104404091835 Loss_G: 8.658792495727539 D(x): 0.9995175004005432 D(G(z)): 0.00024533859686926007 / 0.0001831454283092171\n",
            "[0/5][700/782] Loss_D: 0.000417320872657001 Loss_G: 8.81286907196045 D(x): 0.999783456325531 D(G(z)): 0.00020046188728883862 / 0.00015762439579702914\n",
            "[0/5][750/782] Loss_D: 0.0006105481879785657 Loss_G: 8.360424041748047 D(x): 0.9997463822364807 D(G(z)): 0.0003564343205653131 / 0.00023872988822404295\n"
          ]
        },
        {
          "output_type": "stream",
          "name": "stderr",
          "text": [
            "/usr/local/lib/python3.10/dist-packages/torch/nn/modules/conv.py:952: UserWarning: Plan failed with a cudnnException: CUDNN_BACKEND_EXECUTION_PLAN_DESCRIPTOR: cudnnFinalize Descriptor Failed cudnn_status: CUDNN_STATUS_NOT_SUPPORTED (Triggered internally at ../aten/src/ATen/native/cudnn/Conv_v8.cpp:919.)\n",
            "  return F.conv_transpose2d(\n"
          ]
        },
        {
          "output_type": "stream",
          "name": "stdout",
          "text": [
            "[1/5][0/782] Loss_D: 0.0005716122104786336 Loss_G: 8.72920036315918 D(x): 0.9996487498283386 D(G(z)): 0.00021956601995043457 / 0.00016515434253960848\n",
            "[1/5][50/782] Loss_D: 0.0004333921824581921 Loss_G: 8.940704345703125 D(x): 0.999729573726654 D(G(z)): 0.00016260010306723416 / 0.00013382259930949658\n",
            "[1/5][100/782] Loss_D: 0.00043909461237490177 Loss_G: 8.875941276550293 D(x): 0.9997352361679077 D(G(z)): 0.0001739484432619065 / 0.00014352117432281375\n",
            "[1/5][150/782] Loss_D: 0.0004440021584741771 Loss_G: 8.765162467956543 D(x): 0.9997475743293762 D(G(z)): 0.00019111999426968396 / 0.00015828361210878938\n",
            "[1/5][200/782] Loss_D: 0.000259231252130121 Loss_G: 9.253334045410156 D(x): 0.9998539686203003 D(G(z)): 0.00011309889669064432 / 9.806383604882285e-05\n",
            "[1/5][250/782] Loss_D: 0.00020174492965452373 Loss_G: 9.631755828857422 D(x): 0.9998708963394165 D(G(z)): 7.25832796888426e-05 / 6.678475619992241e-05\n",
            "[1/5][300/782] Loss_D: 0.00020139578555244952 Loss_G: 9.252778053283691 D(x): 0.9999107122421265 D(G(z)): 0.00011210401135031134 / 9.759046952240169e-05\n",
            "[1/5][350/782] Loss_D: 0.00022548159176949412 Loss_G: 9.656050682067871 D(x): 0.9998459219932556 D(G(z)): 7.112593448255211e-05 / 6.475113332271576e-05\n",
            "[1/5][400/782] Loss_D: 0.00015671196160838008 Loss_G: 9.452470779418945 D(x): 0.9999336004257202 D(G(z)): 9.02887259144336e-05 / 7.963963435031474e-05\n",
            "[1/5][450/782] Loss_D: 0.00015767329023219645 Loss_G: 9.453975677490234 D(x): 0.999934196472168 D(G(z)): 9.192344441544265e-05 / 7.979827933013439e-05\n",
            "[1/5][500/782] Loss_D: 0.00018055166583508253 Loss_G: 9.563793182373047 D(x): 0.999903678894043 D(G(z)): 8.417026401730254e-05 / 7.11163884261623e-05\n",
            "[1/5][550/782] Loss_D: 0.0001720533473417163 Loss_G: 9.72206974029541 D(x): 0.9998986721038818 D(G(z)): 7.068068225635216e-05 / 6.124745414126664e-05\n",
            "[1/5][600/782] Loss_D: 0.00015669269487261772 Loss_G: 9.849711418151855 D(x): 0.999904990196228 D(G(z)): 6.164728256408125e-05 / 5.381225855671801e-05\n",
            "[1/5][650/782] Loss_D: 0.00015303812688216567 Loss_G: 9.839128494262695 D(x): 0.9999098181724548 D(G(z)): 6.27943009021692e-05 / 5.445481656352058e-05\n",
            "[1/5][700/782] Loss_D: 0.00013023079372942448 Loss_G: 9.752931594848633 D(x): 0.9999368190765381 D(G(z)): 6.705943815177307e-05 / 5.932056956226006e-05\n",
            "[1/5][750/782] Loss_D: 0.00011839887883979827 Loss_G: 9.989946365356445 D(x): 0.9999330639839172 D(G(z)): 5.146516195964068e-05 / 4.6899069275241345e-05\n",
            "[2/5][0/782] Loss_D: 0.00014366433606483042 Loss_G: 9.646352767944336 D(x): 0.9999316930770874 D(G(z)): 7.531704613938928e-05 / 6.591183046111837e-05\n",
            "[2/5][50/782] Loss_D: 0.00013179730740375817 Loss_G: 9.968389511108398 D(x): 0.9999212622642517 D(G(z)): 5.2969528042012826e-05 / 4.762278695125133e-05\n",
            "[2/5][100/782] Loss_D: 0.00010718728299252689 Loss_G: 9.999753952026367 D(x): 0.9999439120292664 D(G(z)): 5.1108763727825135e-05 / 4.6032320824451745e-05\n",
            "[2/5][150/782] Loss_D: 9.575230069458485e-05 Loss_G: 10.080331802368164 D(x): 0.9999528527259827 D(G(z)): 4.857152816839516e-05 / 4.348906077211723e-05\n",
            "[2/5][200/782] Loss_D: 8.007374708540738e-05 Loss_G: 10.129573822021484 D(x): 0.9999662637710571 D(G(z)): 4.625471410690807e-05 / 4.117000207770616e-05\n",
            "[2/5][250/782] Loss_D: 8.318408799823374e-05 Loss_G: 10.214344024658203 D(x): 0.9999591112136841 D(G(z)): 4.2307648982387036e-05 / 3.769094473682344e-05\n",
            "[2/5][300/782] Loss_D: 8.243309275712818e-05 Loss_G: 10.300670623779297 D(x): 0.9999553561210632 D(G(z)): 3.780606130021624e-05 / 3.463868779363111e-05\n",
            "[2/5][350/782] Loss_D: 6.710969319101423e-05 Loss_G: 10.359807968139648 D(x): 0.9999679923057556 D(G(z)): 3.516356082400307e-05 / 3.232454037060961e-05\n",
            "[2/5][400/782] Loss_D: 5.119084016769193e-05 Loss_G: 10.73069953918457 D(x): 0.9999731183052063 D(G(z)): 2.42751557379961e-05 / 2.2649157472187653e-05\n",
            "[2/5][450/782] Loss_D: 5.1794584578601643e-05 Loss_G: 10.703500747680664 D(x): 0.9999727606773376 D(G(z)): 2.4517772544641048e-05 / 2.2855456336401403e-05\n",
            "[2/5][500/782] Loss_D: 6.0223188484087586e-05 Loss_G: 10.647168159484863 D(x): 0.9999658465385437 D(G(z)): 2.6120147595065646e-05 / 2.4220391424023546e-05\n",
            "[2/5][550/782] Loss_D: 5.880950266146101e-05 Loss_G: 10.72365951538086 D(x): 0.9999651908874512 D(G(z)): 2.4043318262556568e-05 / 2.2318406990962103e-05\n",
            "[2/5][600/782] Loss_D: 6.339012907119468e-05 Loss_G: 10.643146514892578 D(x): 0.9999629855155945 D(G(z)): 2.6377092581242323e-05 / 2.4081944502540864e-05\n",
            "[2/5][650/782] Loss_D: 0.00010234198998659849 Loss_G: 10.233268737792969 D(x): 0.9999415278434753 D(G(z)): 4.383071791380644e-05 / 3.629828279372305e-05\n",
            "[2/5][700/782] Loss_D: 0.00012313236948102713 Loss_G: 10.029661178588867 D(x): 0.9999296069145203 D(G(z)): 5.273658825899474e-05 / 4.428730608196929e-05\n",
            "[2/5][750/782] Loss_D: 0.00012847957259509712 Loss_G: 10.171411514282227 D(x): 0.9999134540557861 D(G(z)): 4.174412606516853e-05 / 3.830256900982931e-05\n",
            "[3/5][0/782] Loss_D: 0.00010988141730194911 Loss_G: 10.31001091003418 D(x): 0.9999305009841919 D(G(z)): 4.034848097944632e-05 / 3.3331172744510695e-05\n",
            "[3/5][50/782] Loss_D: 0.00014589563943445683 Loss_G: 9.90378189086914 D(x): 0.9999103546142578 D(G(z)): 5.565238825511187e-05 / 5.00157693750225e-05\n",
            "[3/5][100/782] Loss_D: 9.678183414507657e-05 Loss_G: 10.1340970993042 D(x): 0.9999494552612305 D(G(z)): 4.6284563723020256e-05 / 3.9728216506773606e-05\n",
            "[3/5][150/782] Loss_D: 0.00022465502843260765 Loss_G: 9.702699661254883 D(x): 0.9998412728309631 D(G(z)): 6.559987377841026e-05 / 6.115500582382083e-05\n",
            "[3/5][200/782] Loss_D: 0.0001093053215299733 Loss_G: 10.174638748168945 D(x): 0.9999387860298157 D(G(z)): 4.806782817468047e-05 / 3.820296115009114e-05\n",
            "[3/5][250/782] Loss_D: 0.0001011103595374152 Loss_G: 10.549753189086914 D(x): 0.9999270439147949 D(G(z)): 2.81269931292627e-05 / 2.6259705919073895e-05\n",
            "[3/5][300/782] Loss_D: 9.470549412071705e-05 Loss_G: 10.448339462280273 D(x): 0.9999386668205261 D(G(z)): 3.32951130985748e-05 / 2.9056609491817653e-05\n",
            "[3/5][350/782] Loss_D: 6.80046432535164e-05 Loss_G: 11.223947525024414 D(x): 0.9999452233314514 D(G(z)): 1.3160809430701192e-05 / 1.3365412087296136e-05\n",
            "[3/5][400/782] Loss_D: 5.413238250184804e-05 Loss_G: 10.755178451538086 D(x): 0.9999709725379944 D(G(z)): 2.507282988517545e-05 / 2.1453966837725602e-05\n",
            "[3/5][450/782] Loss_D: 5.072884960100055e-05 Loss_G: 10.616865158081055 D(x): 0.9999784827232361 D(G(z)): 2.9228122002677992e-05 / 2.4603446945548058e-05\n",
            "[3/5][500/782] Loss_D: 4.676421667682007e-05 Loss_G: 10.895389556884766 D(x): 0.9999741315841675 D(G(z)): 2.0847983250860125e-05 / 1.870050618890673e-05\n",
            "[3/5][550/782] Loss_D: 3.495269629638642e-05 Loss_G: 11.245063781738281 D(x): 0.999979555606842 D(G(z)): 1.4469726920651738e-05 / 1.327306108578341e-05\n",
            "[3/5][600/782] Loss_D: 2.127737388946116e-05 Loss_G: 11.501253128051758 D(x): 0.9999896883964539 D(G(z)): 1.0961764928651974e-05 / 1.022304149955744e-05\n",
            "[3/5][650/782] Loss_D: 2.3674771000514738e-05 Loss_G: 11.230438232421875 D(x): 0.9999912977218628 D(G(z)): 1.4875109627610072e-05 / 1.3459621186484583e-05\n",
            "[3/5][700/782] Loss_D: 2.5736599127412774e-05 Loss_G: 11.434947967529297 D(x): 0.9999861121177673 D(G(z)): 1.179798800876597e-05 / 1.100072950066533e-05\n",
            "[3/5][750/782] Loss_D: 2.1508893041755073e-05 Loss_G: 11.228668212890625 D(x): 0.9999933242797852 D(G(z)): 1.485154643887654e-05 / 1.3799153748550452e-05\n",
            "[4/5][0/782] Loss_D: 2.092270733555779e-05 Loss_G: 11.179215431213379 D(x): 0.9999944567680359 D(G(z)): 1.537994648970198e-05 / 1.4331053534988314e-05\n",
            "[4/5][50/782] Loss_D: 2.2181347958394326e-05 Loss_G: 11.178683280944824 D(x): 0.9999933242797852 D(G(z)): 1.5566580259473994e-05 / 1.4314025975181721e-05\n",
            "[4/5][100/782] Loss_D: 2.2287858882918954e-05 Loss_G: 11.157489776611328 D(x): 0.9999943971633911 D(G(z)): 1.6703375877114013e-05 / 1.4851560081297066e-05\n",
            "[4/5][150/782] Loss_D: 2.1949363144813105e-05 Loss_G: 11.501031875610352 D(x): 0.9999895095825195 D(G(z)): 1.1486742550914641e-05 / 1.0668691174942069e-05\n",
            "[4/5][200/782] Loss_D: 2.006391150644049e-05 Loss_G: 11.35580062866211 D(x): 0.9999935626983643 D(G(z)): 1.3624779057863634e-05 / 1.2366088412818499e-05\n",
            "[4/5][250/782] Loss_D: 2.1709052816731855e-05 Loss_G: 11.14151382446289 D(x): 0.9999958872795105 D(G(z)): 1.7534255675855093e-05 / 1.565816273796372e-05\n",
            "[4/5][300/782] Loss_D: 2.043771746684797e-05 Loss_G: 11.436845779418945 D(x): 0.9999921917915344 D(G(z)): 1.2642714864341542e-05 / 1.1489852113300003e-05\n",
            "[4/5][350/782] Loss_D: 1.747916940075811e-05 Loss_G: 11.617205619812012 D(x): 0.9999926686286926 D(G(z)): 1.0183458471146878e-05 / 9.40397148951888e-06\n",
            "[4/5][400/782] Loss_D: 1.3254668374429457e-05 Loss_G: 11.790243148803711 D(x): 0.9999951124191284 D(G(z)): 8.377701306017116e-06 / 7.831402399460785e-06\n",
            "[4/5][450/782] Loss_D: 1.3457462046062574e-05 Loss_G: 11.828564643859863 D(x): 0.9999945759773254 D(G(z)): 8.019587767194025e-06 / 7.5349230428400915e-06\n",
            "[4/5][500/782] Loss_D: 1.4579229173250496e-05 Loss_G: 12.232884407043457 D(x): 0.9999906420707703 D(G(z)): 5.223240350460401e-06 / 4.9829304771265015e-06\n",
            "[4/5][550/782] Loss_D: 8.58948624227196e-06 Loss_G: 12.260778427124023 D(x): 0.9999964833259583 D(G(z)): 5.058681836089818e-06 / 4.858098236582009e-06\n",
            "[4/5][600/782] Loss_D: 9.35527259571245e-06 Loss_G: 12.180012702941895 D(x): 0.9999960660934448 D(G(z)): 5.48479829376447e-06 / 5.236970991973067e-06\n",
            "[4/5][650/782] Loss_D: 9.756642612046562e-06 Loss_G: 12.14578628540039 D(x): 0.9999958872795105 D(G(z)): 5.648018486681394e-06 / 5.383770258049481e-06\n",
            "[4/5][700/782] Loss_D: 1.0702521649363916e-05 Loss_G: 12.15888786315918 D(x): 0.9999949336051941 D(G(z)): 5.63164667255478e-06 / 5.381436494644731e-06\n",
            "[4/5][750/782] Loss_D: 7.752700184937567e-06 Loss_G: 12.444512367248535 D(x): 0.9999963641166687 D(G(z)): 4.164276560914004e-06 / 4.013956640847027e-06\n"
          ]
        }
      ]
    },
    {
      "cell_type": "code",
      "source": [
        "nltk.download('punkt')\n",
        "\n",
        "# Function to convert text to noise\n",
        "def text_to_noise(prompt, nz):\n",
        "    tokens = word_tokenize(prompt)\n",
        "    noise = torch.zeros(1, nz, 1, 1)\n",
        "    for i, token in enumerate(tokens):\n",
        "        noise[0, i % nz, 0, 0] = hash(token) % 1000 / 1000.0\n",
        "    return noise\n",
        "\n",
        "# Function to generate image from text prompt\n",
        "def generate_image(prompt, generator, nz, device):\n",
        "    noise = text_to_noise(prompt, nz).to(device)\n",
        "    with torch.no_grad():\n",
        "        fake_image = generator(noise).detach().cpu()\n",
        "\n",
        "    img = fake_image[0].permute(1, 2, 0).numpy()\n",
        "    img = (img + 1) / 2\n",
        "    plt.imshow(img)\n",
        "    plt.axis('off')\n",
        "    plt.title(prompt)\n",
        "    plt.show()\n",
        "\n",
        "# User input\n",
        "prompt = input(\"Enter a prompt which you want to be generated \")\n",
        "device = torch.device(\"cuda\" if torch.cuda.is_available() else \"cpu\")\n",
        "\n",
        "# Adjusted hyperparameters\n",
        "latent_dim = 100\n",
        "\n",
        "# Assuming netG is already defined and loaded with trained weights\n",
        "generate_image(prompt, netG, latent_dim, device)"
      ],
      "metadata": {
        "colab": {
          "base_uri": "https://localhost:8080/",
          "height": 480
        },
        "id": "XhKIWQX6eZTF",
        "outputId": "1e96a8e3-21d9-4dfd-bf31-a2894048888e"
      },
      "execution_count": 13,
      "outputs": [
        {
          "output_type": "stream",
          "name": "stderr",
          "text": [
            "[nltk_data] Downloading package punkt to /root/nltk_data...\n",
            "[nltk_data]   Unzipping tokenizers/punkt.zip.\n"
          ]
        },
        {
          "name": "stdout",
          "output_type": "stream",
          "text": [
            "Enter a prompt which you want to be generated Astronaut\n"
          ]
        },
        {
          "output_type": "display_data",
          "data": {
            "text/plain": [
              "<Figure size 640x480 with 1 Axes>"
            ],
            "image/png": "[encoded data removed]"
          },
          "metadata": {}
        }
      ]
    },
    {
      "cell_type": "code",
      "source": [],
      "metadata": {
        "id": "ZEoEA2-Tehzj"
      },
      "execution_count": 13,
      "outputs": []
    }
  ]
}